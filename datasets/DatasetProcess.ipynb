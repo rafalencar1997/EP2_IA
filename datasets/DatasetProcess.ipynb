{
 "cells": [
  {
   "cell_type": "markdown",
   "metadata": {},
   "source": [
    "## Dataset Creation"
   ]
  },
  {
   "cell_type": "code",
   "execution_count": 1,
   "metadata": {
    "collapsed": true
   },
   "outputs": [],
   "source": [
    "import csv\n",
    "import numpy as np\n",
    "import pandas as pd\n",
    "import matplotlib\n",
    "import matplotlib.pyplot as plt\n",
    "\n",
    "%matplotlib inline\n",
    "matplotlib.style.use('ggplot')"
   ]
  },
  {
   "cell_type": "code",
   "execution_count": 2,
   "metadata": {},
   "outputs": [],
   "source": [
    "def categorize(df, ncat, column):\n",
    "    bins = [0]\n",
    "    q = 1/ncat\n",
    "    labels = [\"0\"+column]\n",
    "    for i in range(1, ncat):\n",
    "        bins.append(df.quantile(q*i)[column])\n",
    "        labels.append(str(i)+column)\n",
    "    bins.append(100000000)\n",
    "    df[column] = pd.cut(df[column], bins=bins, labels=labels)"
   ]
  },
  {
   "cell_type": "code",
   "execution_count": 3,
   "metadata": {
    "collapsed": true
   },
   "outputs": [],
   "source": [
    "def getDataframe(filename):\n",
    "    readFile = open(filename, 'r')\n",
    "    reader = csv.reader(readFile)\n",
    "\n",
    "    data = list()  \n",
    "    for row in reader:\n",
    "        data.append(row)\n",
    "    readFile.close()\n",
    "\n",
    "    df = pd.DataFrame.from_dict(data)\n",
    "\n",
    "    df.columns = df.iloc[0]\n",
    "    df = df.drop(0)\n",
    "    \n",
    "    df[\"GLCM_pan\"] = pd.to_numeric(df[\"GLCM_pan\"], downcast=\"float\")\n",
    "    df[\"Mean_Green\"] = pd.to_numeric(df[\"Mean_Green\"], downcast=\"float\")\n",
    "    df[\"Mean_Red\"] = pd.to_numeric(df[\"Mean_Red\"], downcast=\"float\")\n",
    "    df[\"Mean_NIR\"] = pd.to_numeric(df[\"Mean_NIR\"], downcast=\"float\")\n",
    "    df[\"SD_pan\"] = pd.to_numeric(df[\"GLCM_pan\"], downcast=\"float\")\n",
    "    \n",
    "    ncat = 4\n",
    "    categorize(df, ncat, \"GLCM_pan\")\n",
    "    categorize(df, ncat, \"Mean_Green\")\n",
    "    categorize(df, ncat, \"Mean_Red\")\n",
    "    categorize(df, ncat, \"Mean_NIR\")\n",
    "    categorize(df, ncat, \"SD_pan\")\n",
    "    \n",
    "    return df"
   ]
  },
  {
   "cell_type": "code",
   "execution_count": 4,
   "metadata": {},
   "outputs": [
    {
     "data": {
      "text/html": [
       "<div>\n",
       "<style>\n",
       "    .dataframe thead tr:only-child th {\n",
       "        text-align: right;\n",
       "    }\n",
       "\n",
       "    .dataframe thead th {\n",
       "        text-align: left;\n",
       "    }\n",
       "\n",
       "    .dataframe tbody tr th {\n",
       "        vertical-align: top;\n",
       "    }\n",
       "</style>\n",
       "<table border=\"1\" class=\"dataframe\">\n",
       "  <thead>\n",
       "    <tr style=\"text-align: right;\">\n",
       "      <th></th>\n",
       "      <th>GLCM_pan</th>\n",
       "      <th>Mean_Green</th>\n",
       "      <th>Mean_Red</th>\n",
       "      <th>Mean_NIR</th>\n",
       "      <th>SD_pan</th>\n",
       "      <th>class</th>\n",
       "    </tr>\n",
       "  </thead>\n",
       "  <tbody>\n",
       "    <tr>\n",
       "      <th>1</th>\n",
       "      <td>1GLCM_pan</td>\n",
       "      <td>0Mean_Green</td>\n",
       "      <td>3Mean_Red</td>\n",
       "      <td>0Mean_NIR</td>\n",
       "      <td>1SD_pan</td>\n",
       "      <td>w</td>\n",
       "    </tr>\n",
       "    <tr>\n",
       "      <th>2</th>\n",
       "      <td>1GLCM_pan</td>\n",
       "      <td>0Mean_Green</td>\n",
       "      <td>2Mean_Red</td>\n",
       "      <td>0Mean_NIR</td>\n",
       "      <td>1SD_pan</td>\n",
       "      <td>w</td>\n",
       "    </tr>\n",
       "    <tr>\n",
       "      <th>3</th>\n",
       "      <td>2GLCM_pan</td>\n",
       "      <td>0Mean_Green</td>\n",
       "      <td>2Mean_Red</td>\n",
       "      <td>1Mean_NIR</td>\n",
       "      <td>2SD_pan</td>\n",
       "      <td>w</td>\n",
       "    </tr>\n",
       "    <tr>\n",
       "      <th>4</th>\n",
       "      <td>2GLCM_pan</td>\n",
       "      <td>0Mean_Green</td>\n",
       "      <td>1Mean_Red</td>\n",
       "      <td>0Mean_NIR</td>\n",
       "      <td>2SD_pan</td>\n",
       "      <td>w</td>\n",
       "    </tr>\n",
       "    <tr>\n",
       "      <th>5</th>\n",
       "      <td>3GLCM_pan</td>\n",
       "      <td>0Mean_Green</td>\n",
       "      <td>2Mean_Red</td>\n",
       "      <td>2Mean_NIR</td>\n",
       "      <td>3SD_pan</td>\n",
       "      <td>w</td>\n",
       "    </tr>\n",
       "  </tbody>\n",
       "</table>\n",
       "</div>"
      ],
      "text/plain": [
       "0   GLCM_pan   Mean_Green   Mean_Red   Mean_NIR   SD_pan class\n",
       "1  1GLCM_pan  0Mean_Green  3Mean_Red  0Mean_NIR  1SD_pan     w\n",
       "2  1GLCM_pan  0Mean_Green  2Mean_Red  0Mean_NIR  1SD_pan     w\n",
       "3  2GLCM_pan  0Mean_Green  2Mean_Red  1Mean_NIR  2SD_pan     w\n",
       "4  2GLCM_pan  0Mean_Green  1Mean_Red  0Mean_NIR  2SD_pan     w\n",
       "5  3GLCM_pan  0Mean_Green  2Mean_Red  2Mean_NIR  3SD_pan     w"
      ]
     },
     "execution_count": 4,
     "metadata": {},
     "output_type": "execute_result"
    }
   ],
   "source": [
    "dfTrain = getDataframe(\"training.csv\")\n",
    "dfTest = getDataframe(\"testing.csv\")\n",
    "df = pd.concat([dfTrain,dfTest])\n",
    "df = df[[\"GLCM_pan\", \"Mean_Green\", \"Mean_Red\", \"Mean_NIR\", \"SD_pan\", \"class\"]]\n",
    "df.head(5)"
   ]
  },
  {
   "cell_type": "code",
   "execution_count": 5,
   "metadata": {},
   "outputs": [
    {
     "name": "stdout",
     "output_type": "stream",
     "text": [
      "(114, 6)\n",
      "(2306, 6)\n"
     ]
    }
   ],
   "source": [
    "df = df.sample(frac=0.5)\n",
    "print(df[df['class']=='w'].shape)\n",
    "print(df[df['class']=='n'].shape)\n",
    "df.to_csv(\"dataset.csv\", header=False, index=False)"
   ]
  },
  {
   "cell_type": "markdown",
   "metadata": {},
   "source": [
    "### Dataset Statistics"
   ]
  },
  {
   "cell_type": "code",
   "execution_count": 16,
   "metadata": {},
   "outputs": [
    {
     "name": "stdout",
     "output_type": "stream",
     "text": [
      "Valores Máximos:\n",
      "0\n",
      "GLCM_pan      183.281\n",
      "Mean_Green    1848.92\n",
      "Mean_Red      1594.58\n",
      "Mean_NIR      1597.33\n",
      "SD_pan        183.281\n",
      "class               w\n",
      "dtype: object\n",
      "Valores Mínimos:\n",
      "0\n",
      "GLCM_pan            0\n",
      "Mean_Green    117.211\n",
      "Mean_Red      50.5789\n",
      "Mean_NIR         86.5\n",
      "SD_pan              0\n",
      "class               n\n",
      "dtype: object\n"
     ]
    }
   ],
   "source": [
    "print(\"Valores Máximos:\")\n",
    "print(df.max())\n",
    "print(\"Valores Mínimos:\")\n",
    "print(df.min())"
   ]
  },
  {
   "cell_type": "code",
   "execution_count": 17,
   "metadata": {},
   "outputs": [
    {
     "name": "stdout",
     "output_type": "stream",
     "text": [
      "Tamanho do dataset: (4839, 6)\n"
     ]
    }
   ],
   "source": [
    "print(\"Tamanho do dataset:\",df.shape)\n",
    "# GLCM_pan, Mean_Green, Mean_Red, Mean_NIR, SD_pan, class"
   ]
  },
  {
   "cell_type": "code",
   "execution_count": 18,
   "metadata": {},
   "outputs": [
    {
     "name": "stdout",
     "output_type": "stream",
     "text": [
      "(261, 6)\n",
      "(4578, 6)\n"
     ]
    }
   ],
   "source": [
    "print(df[df['class']=='w'].shape)\n",
    "print(df[df['class']=='n'].shape)"
   ]
  },
  {
   "cell_type": "code",
   "execution_count": 19,
   "metadata": {},
   "outputs": [
    {
     "data": {
      "image/png": "[encoded data removed]",
      "text/plain": [
       "<matplotlib.figure.Figure at 0x7fcf6846f5f8>"
      ]
     },
     "metadata": {},
     "output_type": "display_data"
    }
   ],
   "source": [
    "plt.figure(figsize=(10,4))\n",
    "plt.hist(df['GLCM_pan'], bins=range(0,200,5), histtype='bar', ec='black', color='blue')\n",
    "plt.show()"
   ]
  },
  {
   "cell_type": "code",
   "execution_count": 20,
   "metadata": {},
   "outputs": [
    {
     "data": {
      "image/png": "[encoded data removed]",
      "text/plain": [
       "<matplotlib.figure.Figure at 0x7fcf6846f4e0>"
      ]
     },
     "metadata": {},
     "output_type": "display_data"
    }
   ],
   "source": [
    "plt.figure(figsize=(10,4))\n",
    "plt.hist(df['Mean_Green'], bins=range(100,1000,10), histtype='bar', ec='black', color='green') \n",
    "plt.show()"
   ]
  },
  {
   "cell_type": "code",
   "execution_count": 21,
   "metadata": {},
   "outputs": [
    {
     "data": {
      "image/png": "[encoded data removed]",
      "text/plain": [
       "<matplotlib.figure.Figure at 0x7fcf6828e2e8>"
      ]
     },
     "metadata": {},
     "output_type": "display_data"
    }
   ],
   "source": [
    "plt.figure(figsize=(10,4))\n",
    "plt.hist(df['Mean_Red'], bins=range(50,1600,10), histtype='bar', ec='black', color='red')\n",
    "plt.show()"
   ]
  },
  {
   "cell_type": "code",
   "execution_count": 22,
   "metadata": {},
   "outputs": [
    {
     "data": {
      "image/png": "[encoded data removed]",
      "text/plain": [
       "<matplotlib.figure.Figure at 0x7fcf60323438>"
      ]
     },
     "metadata": {},
     "output_type": "display_data"
    }
   ],
   "source": [
    "plt.figure(figsize=(10,4))\n",
    "plt.hist(df['Mean_NIR'], bins=range(50,1600,10), histtype='bar', ec='black', color='pink')\n",
    "plt.show()"
   ]
  },
  {
   "cell_type": "code",
   "execution_count": 23,
   "metadata": {},
   "outputs": [
    {
     "data": {
      "image/png": "[encoded data removed]",
      "text/plain": [
       "<matplotlib.figure.Figure at 0x7fcf6028a550>"
      ]
     },
     "metadata": {},
     "output_type": "display_data"
    }
   ],
   "source": [
    "plt.figure(figsize=(10,4))\n",
    "plt.hist(df['SD_pan'], bins=range(0,200,5), histtype='bar', ec='black', color='purple')\n",
    "plt.show()"
   ]
  },
  {
   "cell_type": "code",
   "execution_count": null,
   "metadata": {
    "collapsed": true
   },
   "outputs": [],
   "source": []
  },
  {
   "cell_type": "code",
   "execution_count": null,
   "metadata": {
    "collapsed": true
   },
   "outputs": [],
   "source": []
  }
 ],
 "metadata": {
  "kernelspec": {
   "display_name": "Python 3",
   "language": "python",
   "name": "python3"
  },
  "language_info": {
   "codemirror_mode": {
    "name": "ipython",
    "version": 3
   },
   "file_extension": ".py",
   "mimetype": "text/x-python",
   "name": "python",
   "nbconvert_exporter": "python",
   "pygments_lexer": "ipython3",
   "version": "3.6.3"
  }
 },
 "nbformat": 4,
 "nbformat_minor": 2
}
