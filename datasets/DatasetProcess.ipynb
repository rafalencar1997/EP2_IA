{
 "cells": [
  {
   "cell_type": "markdown",
   "metadata": {},
   "source": [
    "## Dataset Creation"
   ]
  },
  {
   "cell_type": "markdown",
   "metadata": {},
   "source": [
    "Abaixo temos todas as bibliotecas utilizadas para manipulação e geração de informações sobre o dataset"
   ]
  },
  {
   "cell_type": "code",
   "execution_count": 1,
   "metadata": {
    "collapsed": true
   },
   "outputs": [],
   "source": [
    "import csv\n",
    "import numpy as np\n",
    "import pandas as pd\n",
    "import matplotlib\n",
    "import matplotlib.pyplot as plt\n",
    "\n",
    "%matplotlib inline\n",
    "matplotlib.style.use('ggplot')"
   ]
  },
  {
   "cell_type": "markdown",
   "metadata": {},
   "source": [
    "A função **categorize** transforma os dados numéricos de uma coluna do dataframe em dados categóricos.\n",
    "\n",
    "Essa categorização é feita com base na distribuição dos valores da coluna, por meio de quantis, e dependendo do número de categorias desejado, os pontos dos quantis são alterados."
   ]
  },
  {
   "cell_type": "code",
   "execution_count": 2,
   "metadata": {
    "collapsed": true
   },
   "outputs": [],
   "source": [
    "def categorize(df, ncat, column):\n",
    "    bins = [0]\n",
    "    q = 1/ncat\n",
    "    labels = [0]\n",
    "    for i in range(1, ncat):\n",
    "        bins.append(df.quantile(q*i)[column])\n",
    "        labels.append(i)\n",
    "    bins.append(100000000)\n",
    "    df[column] = pd.cut(df[column], bins=bins, labels=labels)"
   ]
  },
  {
   "cell_type": "markdown",
   "metadata": {},
   "source": [
    "A função **getDataframe** gera um dataframe a partir de um arquivo csv, e faz já um tratamento inicial nos dados, como a categorização caso seja requisitado"
   ]
  },
  {
   "cell_type": "code",
   "execution_count": 3,
   "metadata": {
    "collapsed": true
   },
   "outputs": [],
   "source": [
    "def getDataframe(filename, ncat=0):\n",
    "    readFile = open(filename, 'r')\n",
    "    reader = csv.reader(readFile)\n",
    "\n",
    "    data = list()  \n",
    "    for row in reader:\n",
    "        data.append(row)\n",
    "    readFile.close()\n",
    "\n",
    "    df = pd.DataFrame.from_dict(data)\n",
    "\n",
    "    df.columns = df.iloc[0]\n",
    "    df = df.drop(0)\n",
    "    \n",
    "    df[\"GLCM_pan\"] = pd.to_numeric(df[\"GLCM_pan\"], downcast=\"float\")\n",
    "    df[\"Mean_Green\"] = pd.to_numeric(df[\"Mean_Green\"], downcast=\"float\")\n",
    "    df[\"Mean_Red\"] = pd.to_numeric(df[\"Mean_Red\"], downcast=\"float\")\n",
    "    df[\"Mean_NIR\"] = pd.to_numeric(df[\"Mean_NIR\"], downcast=\"float\")\n",
    "    df[\"SD_pan\"] = pd.to_numeric(df[\"GLCM_pan\"], downcast=\"float\")\n",
    "    \n",
    "    if ncat != 0:\n",
    "        categorize(df, ncat, \"GLCM_pan\")\n",
    "        categorize(df, ncat, \"Mean_Green\")\n",
    "        categorize(df, ncat, \"Mean_Red\")\n",
    "        categorize(df, ncat, \"Mean_NIR\")\n",
    "        categorize(df, ncat, \"SD_pan\")\n",
    "    \n",
    "    return df"
   ]
  },
  {
   "cell_type": "markdown",
   "metadata": {},
   "source": [
    "As colunas que temos nesse dataset são: **GLCM_pan, Mean_Green, Mean_Red, Mean_NIR, SD_pan, class**\n",
    "\n",
    "Abaixo temos a geração dos dataframes, que dependendo das linhas comentadas, irá categorizar ou não os valores dos atributos. \n",
    "\n",
    "A categorização deve ser feita para gerar o csv com os dados para treinamento dos modelos. \n",
    "\n",
    "Para a análise do dataset, é preciso que os valores continuem na forma numérica."
   ]
  },
  {
   "cell_type": "code",
   "execution_count": 5,
   "metadata": {},
   "outputs": [
    {
     "name": "stdout",
     "output_type": "stream",
     "text": [
      "Tamanho do dataset: (4839, 6)\n"
     ]
    },
    {
     "data": {
      "text/html": [
       "<div>\n",
       "<style>\n",
       "    .dataframe thead tr:only-child th {\n",
       "        text-align: right;\n",
       "    }\n",
       "\n",
       "    .dataframe thead th {\n",
       "        text-align: left;\n",
       "    }\n",
       "\n",
       "    .dataframe tbody tr th {\n",
       "        vertical-align: top;\n",
       "    }\n",
       "</style>\n",
       "<table border=\"1\" class=\"dataframe\">\n",
       "  <thead>\n",
       "    <tr style=\"text-align: right;\">\n",
       "      <th></th>\n",
       "      <th>GLCM_pan</th>\n",
       "      <th>Mean_Green</th>\n",
       "      <th>Mean_Red</th>\n",
       "      <th>Mean_NIR</th>\n",
       "      <th>SD_pan</th>\n",
       "      <th>class</th>\n",
       "    </tr>\n",
       "  </thead>\n",
       "  <tbody>\n",
       "    <tr>\n",
       "      <th>0</th>\n",
       "      <td>120.362770</td>\n",
       "      <td>205.500000</td>\n",
       "      <td>119.395348</td>\n",
       "      <td>416.581390</td>\n",
       "      <td>120.362770</td>\n",
       "      <td>w</td>\n",
       "    </tr>\n",
       "    <tr>\n",
       "      <th>1</th>\n",
       "      <td>124.739586</td>\n",
       "      <td>202.800003</td>\n",
       "      <td>115.333336</td>\n",
       "      <td>354.333344</td>\n",
       "      <td>124.739586</td>\n",
       "      <td>w</td>\n",
       "    </tr>\n",
       "    <tr>\n",
       "      <th>2</th>\n",
       "      <td>134.691971</td>\n",
       "      <td>199.285721</td>\n",
       "      <td>116.857140</td>\n",
       "      <td>477.857147</td>\n",
       "      <td>134.691971</td>\n",
       "      <td>w</td>\n",
       "    </tr>\n",
       "    <tr>\n",
       "      <th>3</th>\n",
       "      <td>127.946312</td>\n",
       "      <td>178.368423</td>\n",
       "      <td>92.368423</td>\n",
       "      <td>278.473694</td>\n",
       "      <td>127.946312</td>\n",
       "      <td>w</td>\n",
       "    </tr>\n",
       "    <tr>\n",
       "      <th>4</th>\n",
       "      <td>135.431549</td>\n",
       "      <td>197.000000</td>\n",
       "      <td>112.690475</td>\n",
       "      <td>532.952393</td>\n",
       "      <td>135.431549</td>\n",
       "      <td>w</td>\n",
       "    </tr>\n",
       "  </tbody>\n",
       "</table>\n",
       "</div>"
      ],
      "text/plain": [
       "0    GLCM_pan  Mean_Green    Mean_Red    Mean_NIR      SD_pan class\n",
       "0  120.362770  205.500000  119.395348  416.581390  120.362770     w\n",
       "1  124.739586  202.800003  115.333336  354.333344  124.739586     w\n",
       "2  134.691971  199.285721  116.857140  477.857147  134.691971     w\n",
       "3  127.946312  178.368423   92.368423  278.473694  127.946312     w\n",
       "4  135.431549  197.000000  112.690475  532.952393  135.431549     w"
      ]
     },
     "execution_count": 5,
     "metadata": {},
     "output_type": "execute_result"
    }
   ],
   "source": [
    "# dfTrain = getDataframe(\"training.csv\", 4) # Descomente essas linhas para gerar o dataset de treinamento\n",
    "# dfTest = getDataframe(\"testing.csv\", 4)   # Descomente essas linhas para gerar o dataset de treinamento\n",
    "dfTrain = getDataframe(\"training.csv\") # Descomente essas linhas para analisar os dados\n",
    "dfTest = getDataframe(\"testing.csv\")   # Descomente essas linhas para analisar os dados\n",
    "df = pd.concat([dfTrain,dfTest])\n",
    "df = df[[\"GLCM_pan\", \"Mean_Green\", \"Mean_Red\", \"Mean_NIR\", \"SD_pan\", \"class\"]]\n",
    "print(\"Tamanho do dataset:\",df.shape)\n",
    "df.reset_index(drop=True, inplace=True)\n",
    "df.head(5)"
   ]
  },
  {
   "cell_type": "code",
   "execution_count": 6,
   "metadata": {},
   "outputs": [
    {
     "name": "stdout",
     "output_type": "stream",
     "text": [
      "Número de exemplos original de W: 261\n",
      "Número de exemplos original de N: 4578\n",
      "Número de exemplos novo de N: 391\n"
     ]
    }
   ],
   "source": [
    "Wshape = df[df['class']=='w'].shape[0]\n",
    "Nshape = df[df['class']=='n'].shape[0]\n",
    "print(\"Número de exemplos original de W: \" + str(Wshape))\n",
    "print(\"Número de exemplos original de N: \" + str(Nshape))\n",
    "\n",
    "fracN = 0.60\n",
    "N = (Wshape*fracN)/(1-fracN)\n",
    "frac = N/Nshape\n",
    "\n",
    "dfN = df[df['class']=='n'].sample(frac=frac)\n",
    "dfExp = pd.concat([df[df['class']=='w'], dfN])\n",
    "print(\"Número de exemplos novo de N: \" + str(int(N)))\n",
    "\n",
    "dfExp.to_csv(\"dataset.csv\", header=False, index=False)"
   ]
  },
  {
   "cell_type": "markdown",
   "metadata": {},
   "source": [
    "## Dataset Statistics"
   ]
  },
  {
   "cell_type": "code",
   "execution_count": 7,
   "metadata": {},
   "outputs": [
    {
     "name": "stdout",
     "output_type": "stream",
     "text": [
      "Valores Máximos:\n",
      "0\n",
      "GLCM_pan       183.281250\n",
      "Mean_Green    1848.916626\n",
      "Mean_Red      1594.583374\n",
      "Mean_NIR      1597.333374\n",
      "SD_pan         183.281250\n",
      "dtype: float32\n",
      "Valores Mínimos:\n",
      "0\n",
      "GLCM_pan        0.000000\n",
      "Mean_Green    117.210526\n",
      "Mean_Red       50.578949\n",
      "Mean_NIR       86.500000\n",
      "SD_pan          0.000000\n",
      "dtype: float32\n",
      "Valores Médios:\n",
      "0\n",
      "GLCM_pan      126.855667\n",
      "Mean_Green    231.412201\n",
      "Mean_Red      116.305359\n",
      "Mean_NIR      525.799988\n",
      "SD_pan        126.855667\n",
      "dtype: float32\n",
      "Valores Desvio:\n",
      "0\n",
      "GLCM_pan       13.450508\n",
      "Mean_Green     63.264957\n",
      "Mean_Red       62.005585\n",
      "Mean_NIR      156.579315\n",
      "SD_pan         13.450508\n",
      "dtype: float32\n"
     ]
    }
   ],
   "source": [
    "print(\"Valores Máximos:\")\n",
    "print(df.max(numeric_only=True))\n",
    "print(\"Valores Mínimos:\")\n",
    "print(df.min(numeric_only=True))\n",
    "print(\"Valores Médios:\")\n",
    "print(df.mean(numeric_only=True))\n",
    "print(\"Valores Desvio:\")\n",
    "print(df.std(numeric_only=True))"
   ]
  },
  {
   "cell_type": "code",
   "execution_count": 8,
   "metadata": {},
   "outputs": [
    {
     "data": {
      "image/png": "[encoded data removed]",
      "text/plain": [
       "<matplotlib.figure.Figure at 0x7f6d6519c898>"
      ]
     },
     "metadata": {},
     "output_type": "display_data"
    }
   ],
   "source": [
    "plt.figure(figsize=(10,4))\n",
    "plt.hist(df['GLCM_pan'], bins=range(0,200,5), histtype='bar', ec='black', color='blue')\n",
    "plt.title(\"GLCM_pan Histogram\")\n",
    "plt.show()"
   ]
  },
  {
   "cell_type": "code",
   "execution_count": 9,
   "metadata": {},
   "outputs": [
    {
     "data": {
      "image/png": "[encoded data removed]",
      "text/plain": [
       "<matplotlib.figure.Figure at 0x7f6d5d312940>"
      ]
     },
     "metadata": {},
     "output_type": "display_data"
    }
   ],
   "source": [
    "plt.figure(figsize=(10,4))\n",
    "plt.hist(df['Mean_Green'], bins=range(100,1000,10), histtype='bar', ec='black', color='green') \n",
    "plt.title(\"Mean_Green Histogram\")\n",
    "plt.show()"
   ]
  },
  {
   "cell_type": "code",
   "execution_count": 10,
   "metadata": {},
   "outputs": [
    {
     "data": {
      "image/png": "[encoded data removed]",
      "text/plain": [
       "<matplotlib.figure.Figure at 0x7f6d5d24dd68>"
      ]
     },
     "metadata": {},
     "output_type": "display_data"
    }
   ],
   "source": [
    "plt.figure(figsize=(10,4))\n",
    "plt.hist(df['Mean_Red'], bins=range(50,1600,20), histtype='bar', ec='black', color='red')\n",
    "plt.title(\"Mean_Red Histogram\")\n",
    "plt.show()"
   ]
  },
  {
   "cell_type": "code",
   "execution_count": 11,
   "metadata": {},
   "outputs": [
    {
     "data": {
      "image/png": "[encoded data removed]",
      "text/plain": [
       "<matplotlib.figure.Figure at 0x7f6d5d0bfe10>"
      ]
     },
     "metadata": {},
     "output_type": "display_data"
    }
   ],
   "source": [
    "plt.figure(figsize=(10,4))\n",
    "plt.hist(df['Mean_NIR'], bins=range(50,1600,20), histtype='bar', ec='black', color='pink')\n",
    "plt.title(\"Mean_NIR Histogram\")\n",
    "plt.show()"
   ]
  },
  {
   "cell_type": "code",
   "execution_count": 12,
   "metadata": {},
   "outputs": [
    {
     "data": {
      "image/png": "[encoded data removed]",
      "text/plain": [
       "<matplotlib.figure.Figure at 0x7f6d5cfe65c0>"
      ]
     },
     "metadata": {},
     "output_type": "display_data"
    }
   ],
   "source": [
    "plt.figure(figsize=(10,4))\n",
    "plt.hist(df['SD_pan'], bins=range(0,200,5), histtype='bar', ec='black', color='purple')\n",
    "plt.title(\"SD_pan Histogram\")\n",
    "plt.show()"
   ]
  }
 ],
 "metadata": {
  "kernelspec": {
   "display_name": "Python 3",
   "language": "python",
   "name": "python3"
  },
  "language_info": {
   "codemirror_mode": {
    "name": "ipython",
    "version": 3
   },
   "file_extension": ".py",
   "mimetype": "text/x-python",
   "name": "python",
   "nbconvert_exporter": "python",
   "pygments_lexer": "ipython3",
   "version": "3.6.3"
  }
 },
 "nbformat": 4,
 "nbformat_minor": 2
}
